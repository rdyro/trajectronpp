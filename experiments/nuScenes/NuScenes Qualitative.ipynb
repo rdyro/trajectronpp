{
 "cells": [
  {
   "cell_type": "code",
   "execution_count": 116,
   "metadata": {},
   "outputs": [
    {
     "name": "stdout",
     "output_type": "stream",
     "text": [
      "The autoreload extension is already loaded. To reload it, use:\n",
      "  %reload_ext autoreload\n"
     ]
    }
   ],
   "source": [
    "%load_ext autoreload\n",
    "%autoreload 2\n",
    "%matplotlib inline"
   ]
  },
  {
   "cell_type": "code",
   "execution_count": 117,
   "metadata": {},
   "outputs": [],
   "source": [
    "import os\n",
    "import dill\n",
    "import json\n",
    "from pathlib import Path\n",
    "from typing import Any\n",
    "\n",
    "import numpy as np\n",
    "import torch\n",
    "import matplotlib.pyplot as plt\n",
    "import matplotlib.ticker as ticker\n",
    "import matplotlib.patheffects as pe\n",
    "from jax.tree_util import tree_flatten, tree_unflatten, tree_map\n",
    "\n",
    "import sys\n",
    "from trajectronpp import visualization\n",
    "from trajectronpp.model.trajectron import Trajectron\n",
    "from trajectronpp.environment.node_type import NodeType\n",
    "from nuscenes.map_expansion.map_api import NuScenesMap\n",
    "\n",
    "import helper # local file"
   ]
  },
  {
   "cell_type": "markdown",
   "metadata": {},
   "source": [
    "## Load nuScenes SDK and data"
   ]
  },
  {
   "cell_type": "code",
   "execution_count": 118,
   "metadata": {},
   "outputs": [],
   "source": [
    "nuScenes_data_path = Path(\"~/datasets/nuscenes\").expanduser() # Data Path to nuScenes data set \n",
    "nuScenes_devkit_path = './devkit/python-sdk/'\n",
    "sys.path.append(nuScenes_devkit_path)\n",
    "nusc_map = NuScenesMap(dataroot=nuScenes_data_path, map_name='boston-seaport')"
   ]
  },
  {
   "cell_type": "code",
   "execution_count": 119,
   "metadata": {},
   "outputs": [],
   "source": [
    "line_colors = ['#375397','#80CBE5','#ABCB51','#F05F78', '#C8B0B0']"
   ]
  },
  {
   "cell_type": "markdown",
   "metadata": {},
   "source": [
    "# Map Encoding Demo"
   ]
  },
  {
   "cell_type": "code",
   "execution_count": 120,
   "metadata": {},
   "outputs": [],
   "source": [
    "#with open('../processed/nuScenes_test_full.pkl', 'rb') as f:\n",
    "#    eval_env = dill.load(f, encoding='latin1')\n",
    "data_path = Path(\"~/datasets/trajectronpp2\").expanduser()\n",
    "path = data_path / \"nuScenes_train_full.pkl\"\n",
    "eval_env = dill.loads(path.read_bytes(), encoding='latin1')\n",
    "eval_scenes = eval_env.scenes"
   ]
  },
  {
   "cell_type": "code",
   "execution_count": 121,
   "metadata": {},
   "outputs": [
    {
     "name": "stdout",
     "output_type": "stream",
     "text": [
      "\n",
      "Loading from /home/rdyro/datasets/trajectronpp2/models/model_final/model_registrar-12.pt\n",
      "Loaded!\n",
      "\n"
     ]
    }
   ],
   "source": [
    "ph = 6\n",
    "model_dir = data_path / \"models\" / \"model_final\"\n",
    "eval_stg, hyp = helper.load_model(model_dir, eval_env, ts=12)"
   ]
  },
  {
   "cell_type": "code",
   "execution_count": 122,
   "metadata": {},
   "outputs": [
    {
     "data": {
      "text/plain": [
       "'34'"
      ]
     },
     "execution_count": 122,
     "metadata": {},
     "output_type": "execute_result"
    }
   ],
   "source": [
    "scene = eval_scenes[25]\n",
    "scene.name"
   ]
  },
  {
   "cell_type": "code",
   "execution_count": 123,
   "metadata": {},
   "outputs": [],
   "source": [
    "# Define ROI in nuScenes Map\n",
    "x_min = 773.0\n",
    "x_max = 1100.0\n",
    "y_min = 1231.0\n",
    "y_max = 1510.0"
   ]
  },
  {
   "cell_type": "code",
   "execution_count": 9,
   "metadata": {},
   "outputs": [],
   "source": [
    "layers = ['drivable_area',\n",
    "          'road_segment',\n",
    "          'lane',\n",
    "          'ped_crossing',\n",
    "          'walkway',\n",
    "          'stop_line',\n",
    "          'road_divider',\n",
    "          'lane_divider']"
   ]
  },
  {
   "cell_type": "code",
   "execution_count": 10,
   "metadata": {},
   "outputs": [
    {
     "name": "stderr",
     "output_type": "stream",
     "text": [
      "/home/rdyro/.pyenv/versions/devel/lib/python3.9/site-packages/torch/functional.py:504: UserWarning: torch.meshgrid: in an upcoming release, it will be required to pass the indexing argument. (Triggered internally at ../aten/src/ATen/native/TensorShape.cpp:3483.)\n",
      "  return _VF.meshgrid(tensors, **kwargs)  # type: ignore[attr-defined]\n"
     ]
    }
   ],
   "source": [
    "with torch.no_grad():\n",
    "    timestep = np.array([2])\n",
    "    predictions = eval_stg.predict(scene, timestep, ph, num_samples=500)\n",
    "\n",
    "    predictions_mm = eval_stg.predict(\n",
    "        scene, timestep, ph, num_samples=1, z_mode=True, gmm_mode=True\n",
    "    )"
   ]
  },
  {
   "cell_type": "code",
   "execution_count": 112,
   "metadata": {},
   "outputs": [],
   "source": [
    "def set_attr(obj: Any, key: str, value: Any, delim: str = \".\") -> None:\n",
    "    if delim in key:\n",
    "        attr, sub_key = key.split(delim, 1)\n",
    "        set_attr(getattr(obj, attr), sub_key, value, delim)\n",
    "    else:\n",
    "        if hasattr(obj, key):\n",
    "            delattr(obj, key)\n",
    "        setattr(obj, key, value)\n",
    "\n",
    "\n",
    "def replace_params(\n",
    "    trajectronpp_model: Trajectron, new_params: dict[str, dict[str, dict[str, Any]]]\n",
    ") -> None:\n",
    "    for model, model_params in zip(trajectronpp_model.node_models_dict.values(), new_params):\n",
    "        for node, new_params in zip(model.node_modules.values(), model_params):\n",
    "            for param_name, new_param in new_params.items():\n",
    "                set_attr(node, param_name, new_param)\n",
    "\n",
    "\n",
    "def replace_buffers(\n",
    "    trajectronpp_model: Trajectron, new_buffers: dict[str, dict[str, dict[str, Any]]]\n",
    ") -> None:\n",
    "    for model, model_params in zip(trajectronpp_model.node_models_dict.values(), new_buffers):\n",
    "        for node, new_buffers in zip(model.node_modules.values(), model_params):\n",
    "            for param_name, new_param in new_buffers.items():\n",
    "                set_attr(node, param_name, new_param)\n",
    "\n",
    "\n",
    "def obtain_params(trajectronpp_model: Trajectron) -> dict[str, dict[str, dict[str, Any]]]:\n",
    "    params = [\n",
    "        [dict(node.named_parameters()) for k, node in model.node_modules.items()]\n",
    "        for (model_key, model) in trajectronpp_model.node_models_dict.items()\n",
    "    ]\n",
    "    buffers = [\n",
    "        [dict(node.named_buffers()) for k, node in model.node_modules.items()]\n",
    "        for (model_key, model) in trajectronpp_model.node_models_dict.items()\n",
    "    ]\n",
    "    return params, buffers"
   ]
  },
  {
   "cell_type": "code",
   "execution_count": 126,
   "metadata": {},
   "outputs": [],
   "source": [
    "new_params, new_buffers = obtain_params(eval_stg)"
   ]
  },
  {
   "cell_type": "code",
   "execution_count": 147,
   "metadata": {},
   "outputs": [
    {
     "data": {
      "text/plain": [
       "<bound method Trajectron.eval_loss of <trajectronpp.model.trajectron.Trajectron object at 0x7f1f62597040>>"
      ]
     },
     "execution_count": 147,
     "metadata": {},
     "output_type": "execute_result"
    }
   ],
   "source": [
    "eval_stg.eval_loss"
   ]
  },
  {
   "cell_type": "code",
   "execution_count": 135,
   "metadata": {},
   "outputs": [],
   "source": [
    "p = torch.cat([x.reshape(-1) for x in tree_flatten(new_params)[0]])"
   ]
  },
  {
   "cell_type": "code",
   "execution_count": 141,
   "metadata": {},
   "outputs": [
    {
     "data": {
      "text/plain": [
       "0.268496"
      ]
     },
     "execution_count": 141,
     "metadata": {},
     "output_type": "execute_result"
    }
   ],
   "source": [
    "int(p.shape[0]) / 1e6"
   ]
  },
  {
   "cell_type": "code",
   "execution_count": 106,
   "metadata": {},
   "outputs": [],
   "source": [
    "replace_params(eval_stg, tree_map(lambda x: torch.tensor(x, requires_grad=False), new_buffers))\n",
    "#with torch.no_grad():\n",
    "timestep = np.array([2])\n",
    "predictions = eval_stg.predict(scene, timestep, ph, num_samples=500)\n",
    "\n",
    "predictions_mm = eval_stg.predict(\n",
    "    scene, timestep, ph, num_samples=1, z_mode=True, gmm_mode=True\n",
    ")"
   ]
  },
  {
   "cell_type": "code",
   "execution_count": 146,
   "metadata": {},
   "outputs": [
    {
     "ename": "TypeError",
     "evalue": "object of type 'NoneType' has no len()",
     "output_type": "error",
     "traceback": [
      "\u001b[0;31m---------------------------------------------------------------------------\u001b[0m",
      "\u001b[0;31mTypeError\u001b[0m                                 Traceback (most recent call last)",
      "Cell \u001b[0;32mIn[146], line 1\u001b[0m\n\u001b[0;32m----> 1\u001b[0m scene\u001b[39m.\u001b[39;49mget_scene_graph(\u001b[39m0\u001b[39;49m)\n",
      "File \u001b[0;32m~/Dropbox/stanford/sensitivity_analysis/extreme_behavior/behavior_models/Trajectron-plus-plus/trajectronpp/environment/scene.py:67\u001b[0m, in \u001b[0;36mScene.get_scene_graph\u001b[0;34m(self, timestep, attention_radius, edge_addition_filter, edge_removal_filter)\u001b[0m\n\u001b[1;32m     56\u001b[0m \u001b[39m\u001b[39m\u001b[39m\"\"\"\u001b[39;00m\n\u001b[1;32m     57\u001b[0m \u001b[39mReturns the Scene Graph for a given timestep. If the Temporal Scene Graph was pre calculated,\u001b[39;00m\n\u001b[1;32m     58\u001b[0m \u001b[39mthe temporal scene graph is sliced. Otherwise the scene graph is calculated on the spot.\u001b[39;00m\n\u001b[0;32m   (...)\u001b[0m\n\u001b[1;32m     64\u001b[0m \u001b[39m:return: Scene Graph for given timestep.\u001b[39;00m\n\u001b[1;32m     65\u001b[0m \u001b[39m\"\"\"\u001b[39;00m\n\u001b[1;32m     66\u001b[0m \u001b[39mif\u001b[39;00m \u001b[39mself\u001b[39m\u001b[39m.\u001b[39mtemporal_scene_graph \u001b[39mis\u001b[39;00m \u001b[39mNone\u001b[39;00m:\n\u001b[0;32m---> 67\u001b[0m     timestep_range \u001b[39m=\u001b[39m np\u001b[39m.\u001b[39marray([timestep \u001b[39m-\u001b[39m \u001b[39mlen\u001b[39;49m(edge_removal_filter), timestep])\n\u001b[1;32m     68\u001b[0m     node_pos_dict \u001b[39m=\u001b[39m \u001b[39mdict\u001b[39m()\n\u001b[1;32m     69\u001b[0m     present_nodes \u001b[39m=\u001b[39m \u001b[39mself\u001b[39m\u001b[39m.\u001b[39mpresent_nodes(np\u001b[39m.\u001b[39marray([timestep]))\n",
      "\u001b[0;31mTypeError\u001b[0m: object of type 'NoneType' has no len()"
     ]
    }
   ],
   "source": [
    "scene.get_scene_graph(0)"
   ]
  },
  {
   "cell_type": "code",
   "execution_count": 107,
   "metadata": {},
   "outputs": [
    {
     "data": {
      "text/plain": [
       "{2: {VEHICLE/8c59ef6440c6436dab3a1917b1f0fc19: array([[[[106.096016, 235.08623 ],\n",
       "           [106.05085 , 236.85002 ],\n",
       "           [105.96373 , 238.59822 ],\n",
       "           [105.83794 , 240.30408 ],\n",
       "           [105.6819  , 241.96602 ],\n",
       "           [105.50419 , 243.60284 ]]]], dtype=float32),\n",
       "  VEHICLE/ego: array([[[[100.37622 , 172.79352 ],\n",
       "           [ 98.08934 , 168.9745  ],\n",
       "           [ 95.731186, 165.1945  ],\n",
       "           [ 93.35069 , 161.42601 ],\n",
       "           [ 90.96983 , 157.65694 ],\n",
       "           [ 88.57962 , 153.89436 ]]]], dtype=float32)}}"
      ]
     },
     "execution_count": 107,
     "metadata": {},
     "output_type": "execute_result"
    }
   ],
   "source": [
    "predictions_mm"
   ]
  },
  {
   "cell_type": "code",
   "execution_count": 102,
   "metadata": {},
   "outputs": [
    {
     "data": {
      "text/plain": [
       "[]"
      ]
     },
     "execution_count": 102,
     "metadata": {},
     "output_type": "execute_result"
    }
   ],
   "source": [
    "list(list(list(eval_stg.node_models_dict.values())[0].node_modules.values())[0].parameters())"
   ]
  },
  {
   "cell_type": "code",
   "execution_count": null,
   "metadata": {},
   "outputs": [],
   "source": [
    "eval_stg()"
   ]
  },
  {
   "cell_type": "code",
   "execution_count": 62,
   "metadata": {},
   "outputs": [
    {
     "name": "stderr",
     "output_type": "stream",
     "text": [
      "/tmp/ipykernel_344548/686976958.py:1: UserWarning: To copy construct from a tensor, it is recommended to use sourceTensor.clone().detach() or sourceTensor.clone().detach().requires_grad_(True), rather than torch.tensor(sourceTensor).\n",
      "  new_new_params = tree_map(lambda x: torch.tensor(x.data, requires_grad=True), new_params)\n"
     ]
    }
   ],
   "source": [
    "new_new_params = tree_map(lambda x: torch.tensor(x.data, requires_grad=True), new_buffers)"
   ]
  },
  {
   "cell_type": "code",
   "execution_count": 64,
   "metadata": {},
   "outputs": [
    {
     "ename": "TypeError",
     "evalue": "cannot assign 'torch.FloatTensor' as parameter 'bias_hh_l0' (torch.nn.Parameter or None expected)",
     "output_type": "error",
     "traceback": [
      "\u001b[0;31m---------------------------------------------------------------------------\u001b[0m",
      "\u001b[0;31mTypeError\u001b[0m                                 Traceback (most recent call last)",
      "Cell \u001b[0;32mIn[64], line 1\u001b[0m\n\u001b[0;32m----> 1\u001b[0m replace_params(eval_stg, new_new_params)\n",
      "Cell \u001b[0;32mIn[44], line 15\u001b[0m, in \u001b[0;36mreplace_params\u001b[0;34m(trajectronpp_model, new_params)\u001b[0m\n\u001b[1;32m     13\u001b[0m \u001b[39mfor\u001b[39;00m node, new_params \u001b[39min\u001b[39;00m \u001b[39mzip\u001b[39m(model\u001b[39m.\u001b[39mnode_modules\u001b[39m.\u001b[39mvalues(), model_params):\n\u001b[1;32m     14\u001b[0m     \u001b[39mfor\u001b[39;00m param_name, new_param \u001b[39min\u001b[39;00m new_params\u001b[39m.\u001b[39mitems():\n\u001b[0;32m---> 15\u001b[0m         set_attr(node, param_name, new_param)\n",
      "Cell \u001b[0;32mIn[44], line 6\u001b[0m, in \u001b[0;36mset_attr\u001b[0;34m(obj, key, value, delim)\u001b[0m\n\u001b[1;32m      4\u001b[0m     set_attr(\u001b[39mgetattr\u001b[39m(obj, attr), sub_key, value, delim)\n\u001b[1;32m      5\u001b[0m \u001b[39melse\u001b[39;00m:\n\u001b[0;32m----> 6\u001b[0m     \u001b[39msetattr\u001b[39;49m(obj, key, value)\n",
      "File \u001b[0;32m~/.pyenv/versions/devel/lib/python3.9/site-packages/torch/nn/modules/rnn.py:146\u001b[0m, in \u001b[0;36mRNNBase.__setattr__\u001b[0;34m(self, attr, value)\u001b[0m\n\u001b[1;32m    144\u001b[0m     idx \u001b[39m=\u001b[39m \u001b[39mself\u001b[39m\u001b[39m.\u001b[39m_flat_weights_names\u001b[39m.\u001b[39mindex(attr)\n\u001b[1;32m    145\u001b[0m     \u001b[39mself\u001b[39m\u001b[39m.\u001b[39m_flat_weights[idx] \u001b[39m=\u001b[39m value\n\u001b[0;32m--> 146\u001b[0m \u001b[39msuper\u001b[39;49m()\u001b[39m.\u001b[39;49m\u001b[39m__setattr__\u001b[39;49m(attr, value)\n",
      "File \u001b[0;32m~/.pyenv/versions/devel/lib/python3.9/site-packages/torch/nn/modules/module.py:1635\u001b[0m, in \u001b[0;36mModule.__setattr__\u001b[0;34m(self, name, value)\u001b[0m\n\u001b[1;32m   1633\u001b[0m \u001b[39melif\u001b[39;00m params \u001b[39mis\u001b[39;00m \u001b[39mnot\u001b[39;00m \u001b[39mNone\u001b[39;00m \u001b[39mand\u001b[39;00m name \u001b[39min\u001b[39;00m params:\n\u001b[1;32m   1634\u001b[0m     \u001b[39mif\u001b[39;00m value \u001b[39mis\u001b[39;00m \u001b[39mnot\u001b[39;00m \u001b[39mNone\u001b[39;00m:\n\u001b[0;32m-> 1635\u001b[0m         \u001b[39mraise\u001b[39;00m \u001b[39mTypeError\u001b[39;00m(\u001b[39m\"\u001b[39m\u001b[39mcannot assign \u001b[39m\u001b[39m'\u001b[39m\u001b[39m{}\u001b[39;00m\u001b[39m'\u001b[39m\u001b[39m as parameter \u001b[39m\u001b[39m'\u001b[39m\u001b[39m{}\u001b[39;00m\u001b[39m'\u001b[39m\u001b[39m \u001b[39m\u001b[39m\"\u001b[39m\n\u001b[1;32m   1636\u001b[0m                         \u001b[39m\"\u001b[39m\u001b[39m(torch.nn.Parameter or None expected)\u001b[39m\u001b[39m\"\u001b[39m\n\u001b[1;32m   1637\u001b[0m                         \u001b[39m.\u001b[39mformat(torch\u001b[39m.\u001b[39mtypename(value), name))\n\u001b[1;32m   1638\u001b[0m     \u001b[39mself\u001b[39m\u001b[39m.\u001b[39mregister_parameter(name, value)\n\u001b[1;32m   1639\u001b[0m \u001b[39melse\u001b[39;00m:\n",
      "\u001b[0;31mTypeError\u001b[0m: cannot assign 'torch.FloatTensor' as parameter 'bias_hh_l0' (torch.nn.Parameter or None expected)"
     ]
    }
   ],
   "source": [
    "replace_params(eval_stg, new_new_params)"
   ]
  },
  {
   "cell_type": "code",
   "execution_count": 60,
   "metadata": {},
   "outputs": [
    {
     "data": {
      "text/plain": [
       "[('weight',\n",
       "  Parameter containing:\n",
       "  tensor([[ 1.8483e-01,  8.1790e-02,  1.1442e+00,  2.4283e-01, -1.3534e-01,\n",
       "           -1.7418e-02, -3.6565e-01, -1.6700e+00],\n",
       "          [-3.4892e-01,  2.3717e-01, -1.5227e+00, -3.4297e-01, -2.6075e-01,\n",
       "           -5.2254e-01,  4.0523e-01,  1.1121e+00],\n",
       "          [-6.7042e-02, -6.8654e-02, -8.1052e-01,  5.3605e-01,  6.5733e-01,\n",
       "           -2.4727e-01, -4.1067e-01,  3.4191e+00],\n",
       "          [-2.7230e-01, -2.9231e-01,  8.2400e-01, -9.5478e-01,  3.7015e-01,\n",
       "            4.2478e-03,  1.2588e-01, -2.3870e+00],\n",
       "          [ 3.3160e-01,  6.0227e-02,  5.3238e-01, -3.4920e-01,  3.1534e-01,\n",
       "           -6.3689e-02, -1.5377e-02, -1.6158e+00],\n",
       "          [ 3.3606e-01,  1.5721e-01,  2.6032e-01, -6.0765e-01, -3.8763e-01,\n",
       "            8.8488e-01, -1.1195e-01, -7.4491e-01],\n",
       "          [-2.4717e-01,  2.9009e-01,  1.3242e+00,  9.5324e-01,  2.2291e-01,\n",
       "            1.4289e-01, -4.2244e-01, -2.6579e+00],\n",
       "          [-3.5038e-02, -4.2763e-02,  2.9796e-01,  2.6080e-01, -1.2312e-01,\n",
       "            4.5170e-01, -1.0004e-01, -3.3594e+00],\n",
       "          [-2.3952e-01,  7.4880e-02, -1.5725e+00, -4.3488e-01,  5.4635e-01,\n",
       "            7.5037e-02, -1.6428e-01, -2.0985e+00],\n",
       "          [ 7.5809e-02,  1.2362e-02, -3.3987e-01,  2.1945e-01, -2.1335e-02,\n",
       "            5.2190e-01, -3.1292e-01, -2.1000e-01],\n",
       "          [-2.7539e-02, -1.2554e-03,  1.1471e+00,  1.0257e+00, -4.4735e-01,\n",
       "           -1.2390e-01,  3.7394e-01, -1.0472e+00],\n",
       "          [ 1.9480e-01,  1.4036e-02,  7.8125e-01,  8.2774e-01,  1.5965e-01,\n",
       "            2.9288e-01, -4.2843e-01,  2.5084e+00],\n",
       "          [ 1.8273e-01, -6.6495e-02, -1.1503e+00, -8.6585e-01,  4.1126e-01,\n",
       "            3.0634e-01,  1.0150e-01, -2.7371e+00],\n",
       "          [ 1.4176e-01, -1.8763e-01,  3.9597e-01, -1.0191e+00, -5.7166e-02,\n",
       "            6.4473e-01, -4.2430e-01,  1.9055e+00],\n",
       "          [ 4.5653e-02, -2.4793e-01,  1.0393e+00, -1.2536e+00,  8.7585e-01,\n",
       "           -1.2509e-01, -4.8736e-02,  2.4288e+00],\n",
       "          [-3.3168e-03, -3.3500e-01,  1.6817e-02, -6.2264e-02,  5.0841e-01,\n",
       "            6.3845e-01, -2.1138e-01,  1.6502e+00],\n",
       "          [ 3.4665e-01, -6.6809e-02,  1.3833e+00,  1.2565e+00,  1.2741e-01,\n",
       "            3.7310e-01,  1.4111e-02,  1.9364e+00],\n",
       "          [ 1.7657e-01, -2.2144e-01,  1.6640e-01, -7.7435e-01, -7.3825e-01,\n",
       "            8.2419e-01, -4.3762e-01,  1.8406e+00],\n",
       "          [-1.2913e-01,  1.6137e-01,  9.0100e-01, -3.1398e-01,  5.1829e-01,\n",
       "           -2.2479e-02, -8.1276e-02,  1.1722e+00],\n",
       "          [-2.7830e-01,  2.5069e-01,  5.2364e-01,  5.6667e-01,  8.0291e-01,\n",
       "           -8.4303e-01, -3.0634e-01, -2.9073e+00],\n",
       "          [-2.9715e-01,  7.7845e-02,  2.4098e-01,  9.8784e-01, -2.0848e-01,\n",
       "            6.6065e-01,  3.1237e-01,  2.3544e+00],\n",
       "          [-4.8067e-02,  1.6814e-01,  7.6888e-01,  1.0479e+00, -4.8412e-01,\n",
       "           -6.9756e-01,  3.9179e-01, -2.1609e+00],\n",
       "          [ 6.0541e-02, -3.2011e-01, -5.4417e-01, -8.3372e-01, -2.8871e-01,\n",
       "           -2.9274e-02,  1.3506e-02, -8.4931e-02],\n",
       "          [-4.0298e-02,  7.4043e-02,  2.6965e-01, -1.0308e+00, -8.3417e-01,\n",
       "            8.8541e-01,  1.4684e-01, -1.6841e+00],\n",
       "          [ 3.4907e-02,  2.0669e-01, -9.4449e-01, -3.5842e-01, -2.0022e-01,\n",
       "            3.0894e-01, -2.0176e-01, -6.8643e-01],\n",
       "          [ 1.2618e-01,  1.8811e-01,  1.9187e+00, -7.9914e-01,  1.4678e-01,\n",
       "           -8.0573e-01, -1.0819e-01, -4.3807e-01],\n",
       "          [ 1.7419e-01, -9.7547e-03, -4.0541e-01, -7.2246e-01, -3.2634e-01,\n",
       "            5.5174e-01,  8.2277e-03, -2.8877e+00],\n",
       "          [ 3.2834e-01,  1.5325e-01, -5.5133e-01, -9.8886e-01,  9.2266e-02,\n",
       "           -3.4839e-01, -5.0230e-01,  1.4947e+00],\n",
       "          [-1.4749e-01, -2.4910e-01, -1.0861e+00,  8.6172e-02, -4.3528e-01,\n",
       "           -5.1403e-01,  5.6874e-01,  1.1466e+00],\n",
       "          [-9.6084e-02,  2.3660e-01,  4.6945e-01,  7.8408e-01, -8.3247e-01,\n",
       "            6.4619e-01,  2.3287e-01,  2.7572e+00],\n",
       "          [ 3.4338e-01,  1.0785e-02,  8.5692e-01,  6.8916e-01,  1.9022e-01,\n",
       "            2.2177e-01,  2.1753e-01, -8.4279e-01],\n",
       "          [-1.4481e-01, -2.4283e-01,  4.4716e-01, -7.9984e-01, -4.5896e-01,\n",
       "            4.3479e-02, -1.1043e-01,  3.4206e+00]], requires_grad=True)),\n",
       " ('bias',\n",
       "  Parameter containing:\n",
       "  tensor([ 0.0530,  0.0293,  0.0111,  0.3300,  0.1505, -0.3690, -0.0970,  0.1182,\n",
       "           0.1057,  0.1445,  0.1825, -0.2116,  0.0364,  0.1580, -0.1026,  0.3319,\n",
       "          -0.0594,  0.1947, -0.1203, -0.2389, -0.4852, -0.0060,  0.1473, -0.1759,\n",
       "           0.1429,  0.3634, -0.0397,  0.3183, -0.2715,  0.0077, -0.0756, -0.0219],\n",
       "         requires_grad=True))]"
      ]
     },
     "execution_count": 60,
     "metadata": {},
     "output_type": "execute_result"
    }
   ],
   "source": [
    "list(list(list(eval_stg.node_models_dict.values())[0].node_modules.values())[2].named_parameters())"
   ]
  },
  {
   "cell_type": "code",
   "execution_count": 72,
   "metadata": {},
   "outputs": [],
   "source": [
    "from utils_nn_func import generate_fwd_fn"
   ]
  },
  {
   "cell_type": "code",
   "execution_count": 73,
   "metadata": {},
   "outputs": [],
   "source": [
    "m = torch.nn.Linear(64, 64)\n",
    "w = m.weight\n",
    "w2 = torch.randn((64, 64), requires_grad=True)"
   ]
  },
  {
   "cell_type": "code",
   "execution_count": 87,
   "metadata": {},
   "outputs": [],
   "source": [
    "fwd_fn, params = generate_fwd_fn(m)"
   ]
  },
  {
   "cell_type": "code",
   "execution_count": 88,
   "metadata": {},
   "outputs": [
    {
     "data": {
      "text/plain": [
       "(tensor([[ 0.6563,  2.1941, -0.5043,  ..., -0.1099,  1.7977, -0.1752],\n",
       "         [ 0.6563,  2.1941, -0.5043,  ..., -0.1099,  1.7977, -0.1752],\n",
       "         [ 0.6563,  2.1941, -0.5043,  ..., -0.1099,  1.7977, -0.1752],\n",
       "         ...,\n",
       "         [ 0.6563,  2.1941, -0.5043,  ..., -0.1099,  1.7977, -0.1752],\n",
       "         [ 0.6563,  2.1941, -0.5043,  ..., -0.1099,  1.7977, -0.1752],\n",
       "         [ 0.6563,  2.1941, -0.5043,  ..., -0.1099,  1.7977, -0.1752]]),)"
      ]
     },
     "execution_count": 88,
     "metadata": {},
     "output_type": "execute_result"
    }
   ],
   "source": [
    "torch.autograd.grad(torch.sum(fwd_fn((w2, m.bias.detach()), torch.randn((1, 64)))), w2)"
   ]
  },
  {
   "cell_type": "code",
   "execution_count": 76,
   "metadata": {},
   "outputs": [
    {
     "data": {
      "text/plain": [
       "(tensor([[ 0.0648,  0.0662,  0.0354,  ..., -0.0759,  0.0125,  0.0530],\n",
       "         [ 0.1013, -0.0934, -0.1132,  ..., -0.1039,  0.1028, -0.0741],\n",
       "         [-0.1187, -0.0496,  0.0950,  ...,  0.0719, -0.0761, -0.0425],\n",
       "         ...,\n",
       "         [-0.0394, -0.0084, -0.0867,  ...,  0.1052, -0.0178, -0.1102],\n",
       "         [ 0.0144, -0.1027, -0.0871,  ...,  0.0379,  0.1069, -0.1231],\n",
       "         [ 0.1236,  0.0124,  0.1154,  ..., -0.0633,  0.1007,  0.1134]],\n",
       "        requires_grad=True),\n",
       " tensor([ 0.0718, -0.0494,  0.0934, -0.0121, -0.0431, -0.0014,  0.0871, -0.0234,\n",
       "          0.1105,  0.1100,  0.0757, -0.0488, -0.0533, -0.0752, -0.0175, -0.0522,\n",
       "          0.0168, -0.0668,  0.0199,  0.0640,  0.0457, -0.0177, -0.0782, -0.1119,\n",
       "         -0.0571, -0.0931,  0.0091,  0.0128, -0.0550, -0.0465, -0.1075, -0.0553,\n",
       "          0.0518,  0.0572,  0.0008, -0.0236,  0.0119,  0.0506, -0.0859, -0.0319,\n",
       "          0.0171, -0.0764, -0.1045,  0.0057, -0.1090, -0.0673, -0.1095,  0.0631,\n",
       "         -0.0109,  0.1026, -0.1104,  0.1112, -0.0772, -0.0206, -0.0671,  0.0312,\n",
       "         -0.0210, -0.0575, -0.0329,  0.0842,  0.0234,  0.0255, -0.0465, -0.0703],\n",
       "        requires_grad=True))"
      ]
     },
     "execution_count": 76,
     "metadata": {},
     "output_type": "execute_result"
    }
   ],
   "source": [
    "params"
   ]
  },
  {
   "cell_type": "code",
   "execution_count": 70,
   "metadata": {},
   "outputs": [],
   "source": [
    "m.weight = None"
   ]
  },
  {
   "cell_type": "code",
   "execution_count": 71,
   "metadata": {},
   "outputs": [
    {
     "ename": "TypeError",
     "evalue": "cannot assign 'torch.FloatTensor' as parameter 'weight' (torch.nn.Parameter or None expected)",
     "output_type": "error",
     "traceback": [
      "\u001b[0;31m---------------------------------------------------------------------------\u001b[0m",
      "\u001b[0;31mTypeError\u001b[0m                                 Traceback (most recent call last)",
      "Cell \u001b[0;32mIn[71], line 1\u001b[0m\n\u001b[0;32m----> 1\u001b[0m m\u001b[39m.\u001b[39;49mweight \u001b[39m=\u001b[39m w2\n",
      "File \u001b[0;32m~/.pyenv/versions/devel/lib/python3.9/site-packages/torch/nn/modules/module.py:1635\u001b[0m, in \u001b[0;36mModule.__setattr__\u001b[0;34m(self, name, value)\u001b[0m\n\u001b[1;32m   1633\u001b[0m \u001b[39melif\u001b[39;00m params \u001b[39mis\u001b[39;00m \u001b[39mnot\u001b[39;00m \u001b[39mNone\u001b[39;00m \u001b[39mand\u001b[39;00m name \u001b[39min\u001b[39;00m params:\n\u001b[1;32m   1634\u001b[0m     \u001b[39mif\u001b[39;00m value \u001b[39mis\u001b[39;00m \u001b[39mnot\u001b[39;00m \u001b[39mNone\u001b[39;00m:\n\u001b[0;32m-> 1635\u001b[0m         \u001b[39mraise\u001b[39;00m \u001b[39mTypeError\u001b[39;00m(\u001b[39m\"\u001b[39m\u001b[39mcannot assign \u001b[39m\u001b[39m'\u001b[39m\u001b[39m{}\u001b[39;00m\u001b[39m'\u001b[39m\u001b[39m as parameter \u001b[39m\u001b[39m'\u001b[39m\u001b[39m{}\u001b[39;00m\u001b[39m'\u001b[39m\u001b[39m \u001b[39m\u001b[39m\"\u001b[39m\n\u001b[1;32m   1636\u001b[0m                         \u001b[39m\"\u001b[39m\u001b[39m(torch.nn.Parameter or None expected)\u001b[39m\u001b[39m\"\u001b[39m\n\u001b[1;32m   1637\u001b[0m                         \u001b[39m.\u001b[39mformat(torch\u001b[39m.\u001b[39mtypename(value), name))\n\u001b[1;32m   1638\u001b[0m     \u001b[39mself\u001b[39m\u001b[39m.\u001b[39mregister_parameter(name, value)\n\u001b[1;32m   1639\u001b[0m \u001b[39melse\u001b[39;00m:\n",
      "\u001b[0;31mTypeError\u001b[0m: cannot assign 'torch.FloatTensor' as parameter 'weight' (torch.nn.Parameter or None expected)"
     ]
    }
   ],
   "source": [
    "m.weight = w2"
   ]
  },
  {
   "cell_type": "code",
   "execution_count": 49,
   "metadata": {},
   "outputs": [
    {
     "data": {
      "text/plain": [
       "[[{}, {}, {}, {}, {}, {}, {}, {}, {}, {}, {}, {}, {}, {}, {}, {}, {}],\n",
       " [{}, {}, {}, {}, {}, {}, {}, {}, {}, {}, {}, {}, {}, {}, {}, {}, {}]]"
      ]
     },
     "execution_count": 49,
     "metadata": {},
     "output_type": "execute_result"
    }
   ],
   "source": [
    "obtain_params(eval_stg)"
   ]
  },
  {
   "cell_type": "code",
   "execution_count": 36,
   "metadata": {},
   "outputs": [
    {
     "ename": "TypeError",
     "evalue": "'dict_values' object is not an iterator",
     "output_type": "error",
     "traceback": [
      "\u001b[0;31m---------------------------------------------------------------------------\u001b[0m",
      "\u001b[0;31mTypeError\u001b[0m                                 Traceback (most recent call last)",
      "Cell \u001b[0;32mIn[36], line 1\u001b[0m\n\u001b[0;32m----> 1\u001b[0m \u001b[39mtype\u001b[39m(\u001b[39mnext\u001b[39;49m(new_params\u001b[39m.\u001b[39;49mvalues()))\n",
      "\u001b[0;31mTypeError\u001b[0m: 'dict_values' object is not an iterator"
     ]
    }
   ],
   "source": [
    "type(next(new_buffers.values()))"
   ]
  },
  {
   "cell_type": "code",
   "execution_count": 37,
   "metadata": {},
   "outputs": [
    {
     "ename": "TypeError",
     "evalue": "'<' not supported between instances of 'NodeType' and 'NodeType'",
     "output_type": "error",
     "traceback": [
      "\u001b[0;31m---------------------------------------------------------------------------\u001b[0m",
      "\u001b[0;31mTypeError\u001b[0m                                 Traceback (most recent call last)",
      "Cell \u001b[0;32mIn[37], line 1\u001b[0m\n\u001b[0;32m----> 1\u001b[0m tree_map(\u001b[39mlambda\u001b[39;49;00m x: x\u001b[39m.\u001b[39;49mshape, new_params)\n",
      "File \u001b[0;32m~/.pyenv/versions/devel/lib/python3.9/site-packages/jax/_src/tree_util.py:208\u001b[0m, in \u001b[0;36mtree_map\u001b[0;34m(f, tree, is_leaf, *rest)\u001b[0m\n\u001b[1;32m    174\u001b[0m \u001b[39mdef\u001b[39;00m \u001b[39mtree_map\u001b[39m(f: Callable[\u001b[39m.\u001b[39m\u001b[39m.\u001b[39m\u001b[39m.\u001b[39m, Any], tree: Any, \u001b[39m*\u001b[39mrest: Any,\n\u001b[1;32m    175\u001b[0m              is_leaf: Optional[Callable[[Any], \u001b[39mbool\u001b[39m]] \u001b[39m=\u001b[39m \u001b[39mNone\u001b[39;00m) \u001b[39m-\u001b[39m\u001b[39m>\u001b[39m Any:\n\u001b[1;32m    176\u001b[0m \u001b[39m  \u001b[39m\u001b[39m\"\"\"Maps a multi-input function over pytree args to produce a new pytree.\u001b[39;00m\n\u001b[1;32m    177\u001b[0m \n\u001b[1;32m    178\u001b[0m \u001b[39m  Args:\u001b[39;00m\n\u001b[0;32m   (...)\u001b[0m\n\u001b[1;32m    206\u001b[0m \u001b[39m    [[5, 7, 9], [6, 1, 2]]\u001b[39;00m\n\u001b[1;32m    207\u001b[0m \u001b[39m  \"\"\"\u001b[39;00m\n\u001b[0;32m--> 208\u001b[0m   leaves, treedef \u001b[39m=\u001b[39m tree_flatten(tree, is_leaf)\n\u001b[1;32m    209\u001b[0m   all_leaves \u001b[39m=\u001b[39m [leaves] \u001b[39m+\u001b[39m [treedef\u001b[39m.\u001b[39mflatten_up_to(r) \u001b[39mfor\u001b[39;00m r \u001b[39min\u001b[39;00m rest]\n\u001b[1;32m    210\u001b[0m   \u001b[39mreturn\u001b[39;00m treedef\u001b[39m.\u001b[39munflatten(f(\u001b[39m*\u001b[39mxs) \u001b[39mfor\u001b[39;00m xs \u001b[39min\u001b[39;00m \u001b[39mzip\u001b[39m(\u001b[39m*\u001b[39mall_leaves))\n",
      "File \u001b[0;32m~/.pyenv/versions/devel/lib/python3.9/site-packages/jax/_src/tree_util.py:61\u001b[0m, in \u001b[0;36mtree_flatten\u001b[0;34m(tree, is_leaf)\u001b[0m\n\u001b[1;32m     42\u001b[0m \u001b[39mdef\u001b[39;00m \u001b[39mtree_flatten\u001b[39m(tree: Any,\n\u001b[1;32m     43\u001b[0m                  is_leaf: Optional[Callable[[Any], \u001b[39mbool\u001b[39m]] \u001b[39m=\u001b[39m \u001b[39mNone\u001b[39;00m\n\u001b[1;32m     44\u001b[0m                  ) \u001b[39m-\u001b[39m\u001b[39m>\u001b[39m Tuple[List[Leaf], PyTreeDef]:\n\u001b[1;32m     45\u001b[0m \u001b[39m  \u001b[39m\u001b[39m\"\"\"Flattens a pytree.\u001b[39;00m\n\u001b[1;32m     46\u001b[0m \n\u001b[1;32m     47\u001b[0m \u001b[39m  The flattening order (i.e. the order of elements in the output list)\u001b[39;00m\n\u001b[0;32m   (...)\u001b[0m\n\u001b[1;32m     59\u001b[0m \u001b[39m    element is a treedef representing the structure of the flattened tree.\u001b[39;00m\n\u001b[1;32m     60\u001b[0m \u001b[39m  \"\"\"\u001b[39;00m\n\u001b[0;32m---> 61\u001b[0m   \u001b[39mreturn\u001b[39;00m pytree\u001b[39m.\u001b[39;49mflatten(tree, is_leaf)\n",
      "\u001b[0;31mTypeError\u001b[0m: '<' not supported between instances of 'NodeType' and 'NodeType'"
     ]
    }
   ],
   "source": [
    "tree_map(lambda x: x.shape, new_buffers)"
   ]
  },
  {
   "cell_type": "code",
   "execution_count": 34,
   "metadata": {},
   "outputs": [
    {
     "ename": "TypeError",
     "evalue": "'<' not supported between instances of 'NodeType' and 'NodeType'",
     "output_type": "error",
     "traceback": [
      "\u001b[0;31m---------------------------------------------------------------------------\u001b[0m",
      "\u001b[0;31mTypeError\u001b[0m                                 Traceback (most recent call last)",
      "Cell \u001b[0;32mIn[34], line 2\u001b[0m\n\u001b[1;32m      1\u001b[0m new_params \u001b[39m=\u001b[39m obtain_params(eval_stg)\n\u001b[0;32m----> 2\u001b[0m replace(eval_stg, tree_map(\u001b[39mlambda\u001b[39;49;00m x: \u001b[39mNone\u001b[39;49;00m, new_params))\n",
      "File \u001b[0;32m~/.pyenv/versions/devel/lib/python3.9/site-packages/jax/_src/tree_util.py:208\u001b[0m, in \u001b[0;36mtree_map\u001b[0;34m(f, tree, is_leaf, *rest)\u001b[0m\n\u001b[1;32m    174\u001b[0m \u001b[39mdef\u001b[39;00m \u001b[39mtree_map\u001b[39m(f: Callable[\u001b[39m.\u001b[39m\u001b[39m.\u001b[39m\u001b[39m.\u001b[39m, Any], tree: Any, \u001b[39m*\u001b[39mrest: Any,\n\u001b[1;32m    175\u001b[0m              is_leaf: Optional[Callable[[Any], \u001b[39mbool\u001b[39m]] \u001b[39m=\u001b[39m \u001b[39mNone\u001b[39;00m) \u001b[39m-\u001b[39m\u001b[39m>\u001b[39m Any:\n\u001b[1;32m    176\u001b[0m \u001b[39m  \u001b[39m\u001b[39m\"\"\"Maps a multi-input function over pytree args to produce a new pytree.\u001b[39;00m\n\u001b[1;32m    177\u001b[0m \n\u001b[1;32m    178\u001b[0m \u001b[39m  Args:\u001b[39;00m\n\u001b[0;32m   (...)\u001b[0m\n\u001b[1;32m    206\u001b[0m \u001b[39m    [[5, 7, 9], [6, 1, 2]]\u001b[39;00m\n\u001b[1;32m    207\u001b[0m \u001b[39m  \"\"\"\u001b[39;00m\n\u001b[0;32m--> 208\u001b[0m   leaves, treedef \u001b[39m=\u001b[39m tree_flatten(tree, is_leaf)\n\u001b[1;32m    209\u001b[0m   all_leaves \u001b[39m=\u001b[39m [leaves] \u001b[39m+\u001b[39m [treedef\u001b[39m.\u001b[39mflatten_up_to(r) \u001b[39mfor\u001b[39;00m r \u001b[39min\u001b[39;00m rest]\n\u001b[1;32m    210\u001b[0m   \u001b[39mreturn\u001b[39;00m treedef\u001b[39m.\u001b[39munflatten(f(\u001b[39m*\u001b[39mxs) \u001b[39mfor\u001b[39;00m xs \u001b[39min\u001b[39;00m \u001b[39mzip\u001b[39m(\u001b[39m*\u001b[39mall_leaves))\n",
      "File \u001b[0;32m~/.pyenv/versions/devel/lib/python3.9/site-packages/jax/_src/tree_util.py:61\u001b[0m, in \u001b[0;36mtree_flatten\u001b[0;34m(tree, is_leaf)\u001b[0m\n\u001b[1;32m     42\u001b[0m \u001b[39mdef\u001b[39;00m \u001b[39mtree_flatten\u001b[39m(tree: Any,\n\u001b[1;32m     43\u001b[0m                  is_leaf: Optional[Callable[[Any], \u001b[39mbool\u001b[39m]] \u001b[39m=\u001b[39m \u001b[39mNone\u001b[39;00m\n\u001b[1;32m     44\u001b[0m                  ) \u001b[39m-\u001b[39m\u001b[39m>\u001b[39m Tuple[List[Leaf], PyTreeDef]:\n\u001b[1;32m     45\u001b[0m \u001b[39m  \u001b[39m\u001b[39m\"\"\"Flattens a pytree.\u001b[39;00m\n\u001b[1;32m     46\u001b[0m \n\u001b[1;32m     47\u001b[0m \u001b[39m  The flattening order (i.e. the order of elements in the output list)\u001b[39;00m\n\u001b[0;32m   (...)\u001b[0m\n\u001b[1;32m     59\u001b[0m \u001b[39m    element is a treedef representing the structure of the flattened tree.\u001b[39;00m\n\u001b[1;32m     60\u001b[0m \u001b[39m  \"\"\"\u001b[39;00m\n\u001b[0;32m---> 61\u001b[0m   \u001b[39mreturn\u001b[39;00m pytree\u001b[39m.\u001b[39;49mflatten(tree, is_leaf)\n",
      "\u001b[0;31mTypeError\u001b[0m: '<' not supported between instances of 'NodeType' and 'NodeType'"
     ]
    }
   ],
   "source": [
    "new_buffers = obtain_params(eval_stg)\n",
    "replace(eval_stg, tree_map(lambda x: None, new_buffers))"
   ]
  },
  {
   "cell_type": "code",
   "execution_count": 43,
   "metadata": {},
   "outputs": [],
   "source": [
    "flat_params, tree_struct = tree_flatten(new_buffers)"
   ]
  },
  {
   "cell_type": "code",
   "execution_count": 59,
   "metadata": {},
   "outputs": [
    {
     "name": "stderr",
     "output_type": "stream",
     "text": [
      "/tmp/ipykernel_226400/1096791999.py:1: UserWarning: To copy construct from a tensor, it is recommended to use sourceTensor.clone().detach() or sourceTensor.clone().detach().requires_grad_(True), rather than torch.tensor(sourceTensor).\n",
      "  new_new_params = tree_map(lambda x: torch.nn.Parameter(5 * torch.tensor(x)), new_params)\n"
     ]
    }
   ],
   "source": [
    "new_new_params = tree_map(lambda x: torch.nn.Parameter(5 * torch.tensor(x)), new_buffers)\n",
    "none_params = tree_map(lambda x: None, new_buffers)"
   ]
  },
  {
   "cell_type": "code",
   "execution_count": 60,
   "metadata": {},
   "outputs": [],
   "source": [
    "replace(eval_stg.node_models_dict.values(), none_params)"
   ]
  },
  {
   "cell_type": "code",
   "execution_count": 61,
   "metadata": {},
   "outputs": [],
   "source": [
    "replace(eval_stg.node_models_dict.values(), new_new_params)"
   ]
  },
  {
   "cell_type": "code",
   "execution_count": 25,
   "metadata": {},
   "outputs": [
    {
     "data": {
      "text/plain": [
       "{torch.float32}"
      ]
     },
     "execution_count": 25,
     "metadata": {},
     "output_type": "execute_result"
    }
   ],
   "source": [
    "set(p.dtype for p in all_params)"
   ]
  },
  {
   "cell_type": "code",
   "execution_count": 27,
   "metadata": {},
   "outputs": [],
   "source": [
    "vehicle_node = [k for k in eval_stg.node_models_dict.keys() if k.name == \"VEHICLE\"][0]"
   ]
  },
  {
   "cell_type": "code",
   "execution_count": 36,
   "metadata": {},
   "outputs": [
    {
     "data": {
      "text/plain": [
       "5376"
      ]
     },
     "execution_count": 36,
     "metadata": {},
     "output_type": "execute_result"
    }
   ],
   "source": [
    "sum(p.numel() for p in list(eval_stg.node_models_dict[vehicle_node].node_modules.values())[0].parameters())"
   ]
  },
  {
   "cell_type": "code",
   "execution_count": 12,
   "metadata": {},
   "outputs": [
    {
     "data": {
      "text/plain": [
       "{2: {VEHICLE/8c59ef6440c6436dab3a1917b1f0fc19: array([[[[106.03945 , 235.0936  ],\n",
       "           [105.841705, 236.90077 ],\n",
       "           [105.6286  , 238.95224 ],\n",
       "           [105.29999 , 241.18375 ],\n",
       "           [104.94821 , 243.65823 ],\n",
       "           [104.63774 , 246.43211 ]],\n",
       "  \n",
       "          [[105.96816 , 235.21712 ],\n",
       "           [105.650925, 237.35799 ],\n",
       "           [105.21167 , 239.80815 ],\n",
       "           [104.55566 , 242.57571 ],\n",
       "           [103.964424, 244.68466 ],\n",
       "           [103.37962 , 246.03876 ]],\n",
       "  \n",
       "          [[106.112686, 235.22942 ],\n",
       "           [106.018196, 237.34065 ],\n",
       "           [105.595764, 239.56827 ],\n",
       "           [104.98506 , 242.01279 ],\n",
       "           [104.19098 , 244.66614 ],\n",
       "           [103.40302 , 247.46817 ]],\n",
       "  \n",
       "          ...,\n",
       "  \n",
       "          [[105.65614 , 235.09387 ],\n",
       "           [104.768234, 236.79953 ],\n",
       "           [103.7497  , 238.71715 ],\n",
       "           [102.30269 , 240.90854 ],\n",
       "           [100.605606, 243.30559 ],\n",
       "           [ 98.747986, 245.87991 ]],\n",
       "  \n",
       "          [[106.056305, 234.93816 ],\n",
       "           [105.91491 , 236.46149 ],\n",
       "           [105.42718 , 238.27048 ],\n",
       "           [104.56868 , 240.45229 ],\n",
       "           [103.83055 , 242.90297 ],\n",
       "           [103.26838 , 245.45432 ]],\n",
       "  \n",
       "          [[106.15801 , 235.0749  ],\n",
       "           [106.222145, 236.91394 ],\n",
       "           [106.307106, 238.89957 ],\n",
       "           [106.45058 , 241.03366 ],\n",
       "           [106.61408 , 243.1943  ],\n",
       "           [106.69612 , 245.30063 ]]]], dtype=float32),\n",
       "  VEHICLE/ego: array([[[[100.54627 , 172.61795 ],\n",
       "           [ 98.67994 , 168.30922 ],\n",
       "           [ 96.42526 , 164.08289 ],\n",
       "           [ 93.47708 , 160.29404 ],\n",
       "           [ 90.10844 , 156.89981 ],\n",
       "           [ 86.6045  , 153.7295  ]],\n",
       "  \n",
       "          [[100.05217 , 172.58774 ],\n",
       "           [ 96.77747 , 168.64938 ],\n",
       "           [ 92.68594 , 165.6645  ],\n",
       "           [ 88.59371 , 162.92877 ],\n",
       "           [ 84.860855, 159.8397  ],\n",
       "           [ 80.66331 , 156.7746  ]],\n",
       "  \n",
       "          [[100.559845, 172.96419 ],\n",
       "           [ 98.69825 , 169.50871 ],\n",
       "           [ 96.81683 , 165.99507 ],\n",
       "           [ 94.825035, 162.52344 ],\n",
       "           [ 92.61789 , 159.52615 ],\n",
       "           [ 90.236305, 156.91884 ]],\n",
       "  \n",
       "          ...,\n",
       "  \n",
       "          [[100.4912  , 172.96298 ],\n",
       "           [ 98.28049 , 169.54886 ],\n",
       "           [ 95.6655  , 166.5392  ],\n",
       "           [ 92.65728 , 163.96907 ],\n",
       "           [ 89.238686, 161.58186 ],\n",
       "           [ 85.36686 , 159.72514 ]],\n",
       "  \n",
       "          [[ 99.69873 , 172.93286 ],\n",
       "           [ 95.89105 , 169.78186 ],\n",
       "           [ 91.8886  , 166.9523  ],\n",
       "           [ 88.19546 , 163.77324 ],\n",
       "           [ 84.812965, 160.37831 ],\n",
       "           [ 81.27798 , 157.27576 ]],\n",
       "  \n",
       "          [[100.64517 , 173.20097 ],\n",
       "           [ 98.79343 , 170.24162 ],\n",
       "           [ 96.68338 , 167.61198 ],\n",
       "           [ 94.4213  , 165.63387 ],\n",
       "           [ 92.05237 , 164.13075 ],\n",
       "           [ 89.49942 , 162.79846 ]]]], dtype=float32)}}"
      ]
     },
     "execution_count": 12,
     "metadata": {},
     "output_type": "execute_result"
    }
   ],
   "source": [
    "predictions"
   ]
  },
  {
   "cell_type": "markdown",
   "metadata": {},
   "source": [
    "## Prediction including Map Encoding"
   ]
  },
  {
   "cell_type": "code",
   "execution_count": null,
   "metadata": {},
   "outputs": [],
   "source": [
    "ph = 6\n",
    "with torch.no_grad():\n",
    "    timestep = np.array([2])\n",
    "    predictions = eval_stg.predict(scene, timestep, ph, num_samples=500)\n",
    "\n",
    "    predictions_mm = eval_stg.predict(\n",
    "        scene, timestep, ph, num_samples=1, z_mode=True, gmm_mode=True\n",
    "    )\n",
    "\n",
    "    # Plot predicted timestep for random scene in map\n",
    "    my_patch = (x_min, y_min, x_max, y_max)\n",
    "    fig, ax = nusc_map.render_map_patch(\n",
    "        my_patch, layers, figsize=(10, 10), alpha=0.1, render_egoposes_range=False\n",
    "    )\n",
    "\n",
    "    ax.plot([], [], \"ko-\", zorder=620, markersize=4, linewidth=2, alpha=0.7, label=\"Ours (MM)\")\n",
    "\n",
    "    ax.plot(\n",
    "        [],\n",
    "        [],\n",
    "        \"w--o\",\n",
    "        label=\"Ground Truth\",\n",
    "        linewidth=3,\n",
    "        path_effects=[pe.Stroke(linewidth=4, foreground=\"k\"), pe.Normal()],\n",
    "    )\n",
    "\n",
    "    helper.plot_vehicle_nice(\n",
    "        ax, predictions, scene.dt, max_hl=10, ph=ph, map=None, x_min=x_min, y_min=y_min\n",
    "    )\n",
    "\n",
    "    helper.plot_vehicle_mm(\n",
    "        ax, predictions_mm, scene.dt, max_hl=10, ph=ph, map=None, x_min=x_min, y_min=y_min\n",
    "    )\n",
    "\n",
    "    ax.set_ylim((1385, 1435))\n",
    "    ax.set_xlim((850, 900))\n",
    "    leg = ax.legend(loc=\"upper right\", fontsize=20, frameon=True)\n",
    "    #ax.axis(\"off\")\n",
    "    for lh in leg.legendHandles:\n",
    "        lh.set_alpha(0.5)\n",
    "    ax.get_legend().remove()\n",
    "    fig.show()\n",
    "    fig.savefig(\"plots/qual_nuScenes_map_pos.pdf\", dpi=300, bbox_inches=\"tight\")"
   ]
  },
  {
   "cell_type": "markdown",
   "metadata": {},
   "source": [
    "## Prediction without Map Encoding"
   ]
  },
  {
   "cell_type": "code",
   "execution_count": null,
   "metadata": {},
   "outputs": [],
   "source": [
    "model_dir = os.path.join(log_dir, 'int_ee') \n",
    "eval_stg_nm, hyp = load_model(model_dir, eval_env, ts=12)"
   ]
  },
  {
   "cell_type": "code",
   "execution_count": null,
   "metadata": {},
   "outputs": [],
   "source": [
    "ph = 6\n",
    "with torch.no_grad():\n",
    "    timestep = np.array([2])\n",
    "    predictions = eval_stg_nm.predict(scene,\n",
    "                                   timestep,\n",
    "                                   ph,\n",
    "                                   num_samples=500)\n",
    "\n",
    "    predictions_mm = eval_stg_nm.predict(scene,\n",
    "                                      timestep,\n",
    "                                      ph,\n",
    "                                      num_samples=1,\n",
    "                                      z_mode=True,\n",
    "                                      gmm_mode=True)\n",
    "\n",
    "    # Plot predicted timestep for random scene in map\n",
    "    my_patch = (x_min, y_min, x_max, y_max)\n",
    "    fig, ax = nusc_map.render_map_patch(my_patch, layers, figsize=(10, 10), alpha=0.1, render_egoposes_range=False)\n",
    "\n",
    "    ax.plot([], [], 'ko-',\n",
    "            zorder=620,\n",
    "            markersize=4,\n",
    "            linewidth=2, alpha=0.7, label='Ours (MM)')\n",
    "\n",
    "    ax.plot([],\n",
    "            [],\n",
    "            'w--o', label='Ground Truth',\n",
    "            linewidth=3,\n",
    "            path_effects=[pe.Stroke(linewidth=4, foreground='k'), pe.Normal()])\n",
    "\n",
    "    plot_vehicle_nice(ax,\n",
    "                      predictions,\n",
    "                      scene.dt,\n",
    "                      max_hl=10,\n",
    "                      ph=ph,\n",
    "                      map=None, x_min=x_min, y_min=y_min)\n",
    "\n",
    "    plot_vehicle_mm(ax,\n",
    "                    predictions_mm,\n",
    "                    scene.dt,\n",
    "                    max_hl=10,\n",
    "                    ph=ph,\n",
    "                    map=None, x_min=x_min, y_min=y_min)\n",
    "\n",
    "    ax.set_ylim((1385, 1435))\n",
    "    ax.set_xlim((850, 900))\n",
    "    leg = ax.legend(loc='upper right', fontsize=20, frameon=True)\n",
    "    ax.axis('off')\n",
    "    for lh in leg.legendHandles:\n",
    "        lh.set_alpha(.5)\n",
    "    ax.get_legend().remove()\n",
    "    fig.show()\n",
    "    fig.savefig('plots/qual_nuScenes_no_map_pos.pdf', dpi=300, bbox_inches='tight')"
   ]
  },
  {
   "cell_type": "markdown",
   "metadata": {},
   "source": [
    "## Prediction using velocity output"
   ]
  },
  {
   "cell_type": "code",
   "execution_count": null,
   "metadata": {},
   "outputs": [],
   "source": [
    "model_dir = os.path.join(log_dir, 'ee_vel') \n",
    "eval_stg_vel, hyp = load_model(model_dir, eval_env, ts=12)"
   ]
  },
  {
   "cell_type": "code",
   "execution_count": null,
   "metadata": {},
   "outputs": [],
   "source": [
    "ph = 6\n",
    "with torch.no_grad():\n",
    "    timestep = np.array([2])\n",
    "    predictions = eval_stg_vel.predict(scene,\n",
    "                                   timestep,\n",
    "                                   ph,\n",
    "                                   num_samples=500)\n",
    "\n",
    "    predictions_mm = eval_stg_vel.predict(scene,\n",
    "                                      timestep,\n",
    "                                      ph,\n",
    "                                      num_samples=1,\n",
    "                                      z_mode=True,\n",
    "                                      gmm_mode=True)\n",
    "\n",
    "    # Plot predicted timestep for random scene in map\n",
    "    my_patch = (x_min, y_min, x_max, y_max)\n",
    "    fig, ax = nusc_map.render_map_patch(my_patch, layers, figsize=(10, 10), alpha=0.1, render_egoposes_range=False)\n",
    "\n",
    "    ax.plot([], [], 'ko-',\n",
    "            zorder=620,\n",
    "            markersize=4,\n",
    "            linewidth=2, alpha=0.7, label='Ours (MM)')\n",
    "\n",
    "    ax.plot([],\n",
    "            [],\n",
    "            'w--o', label='Ground Truth',\n",
    "            linewidth=3,\n",
    "            path_effects=[pe.Stroke(linewidth=4, foreground='k'), pe.Normal()])\n",
    "\n",
    "    plot_vehicle_nice(ax,\n",
    "                      predictions,\n",
    "                      scene.dt,\n",
    "                      max_hl=10,\n",
    "                      ph=ph,\n",
    "                      map=None, x_min=x_min, y_min=y_min)\n",
    "\n",
    "    plot_vehicle_mm(ax,\n",
    "                    predictions_mm,\n",
    "                    scene.dt,\n",
    "                    max_hl=10,\n",
    "                    ph=ph,\n",
    "                    map=None, x_min=x_min, y_min=y_min)\n",
    "\n",
    "    ax.set_ylim((1385, 1435))\n",
    "    ax.set_xlim((850, 900))\n",
    "    leg = ax.legend(loc='upper right', fontsize=20, frameon=True)\n",
    "    ax.axis('off')\n",
    "    for lh in leg.legendHandles:\n",
    "        lh.set_alpha(.5)\n",
    "    ax.get_legend().remove()\n",
    "    fig.show()\n",
    "    fig.savefig('plots/qual_nuScenes_no_map_vel.pdf', dpi=300, bbox_inches='tight')"
   ]
  },
  {
   "cell_type": "markdown",
   "metadata": {},
   "source": [
    "## Prediction using velocity output and map"
   ]
  },
  {
   "cell_type": "code",
   "execution_count": null,
   "metadata": {},
   "outputs": [],
   "source": [
    "model_dir = os.path.join(log_dir, 'me_vel') \n",
    "eval_stg_vel_map, hyp = load_model(model_dir, eval_env, ts=12)"
   ]
  },
  {
   "cell_type": "code",
   "execution_count": null,
   "metadata": {},
   "outputs": [],
   "source": [
    "ph = 6\n",
    "with torch.no_grad():\n",
    "    timestep = np.array([2])\n",
    "    predictions = eval_stg_vel_map.predict(scene,\n",
    "                                   timestep,\n",
    "                                   ph,\n",
    "                                   num_samples=500)\n",
    "\n",
    "    predictions_mm = eval_stg_vel_map.predict(scene,\n",
    "                                      timestep,\n",
    "                                      ph,\n",
    "                                      num_samples=1,\n",
    "                                      z_mode=True,\n",
    "                                      gmm_mode=True)\n",
    "\n",
    "    # Plot predicted timestep for random scene in map\n",
    "    my_patch = (x_min, y_min, x_max, y_max)\n",
    "    fig, ax = nusc_map.render_map_patch(my_patch, layers, figsize=(10, 10), alpha=0.1, render_egoposes_range=False)\n",
    "\n",
    "    ax.plot([], [], 'ko-',\n",
    "            zorder=620,\n",
    "            markersize=4,\n",
    "            linewidth=2, alpha=0.7, label='Ours (MM)')\n",
    "\n",
    "    ax.plot([],\n",
    "            [],\n",
    "            'w--o', label='Ground Truth',\n",
    "            linewidth=3,\n",
    "            path_effects=[pe.Stroke(linewidth=4, foreground='k'), pe.Normal()])\n",
    "\n",
    "    plot_vehicle_nice(ax,\n",
    "                      predictions,\n",
    "                      scene.dt,\n",
    "                      max_hl=10,\n",
    "                      ph=ph,\n",
    "                      map=None, x_min=x_min, y_min=y_min)\n",
    "\n",
    "    plot_vehicle_mm(ax,\n",
    "                    predictions_mm,\n",
    "                    scene.dt,\n",
    "                    max_hl=10,\n",
    "                    ph=ph,\n",
    "                    map=None, x_min=x_min, y_min=y_min)\n",
    "\n",
    "    ax.set_ylim((1385, 1435))\n",
    "    ax.set_xlim((850, 900))\n",
    "    leg = ax.legend(loc='upper right', fontsize=20, frameon=True)\n",
    "    ax.axis('off')\n",
    "    for lh in leg.legendHandles:\n",
    "        lh.set_alpha(.5)\n",
    "    ax.get_legend().remove()\n",
    "    fig.show()\n",
    "    fig.savefig('plots/qual_nuScenes_map_vel.pdf', dpi=300, bbox_inches='tight')"
   ]
  },
  {
   "cell_type": "code",
   "execution_count": null,
   "metadata": {},
   "outputs": [],
   "source": [
    "my_patch = (0, 0, 1, 1)\n",
    "fig, ax = nusc_map.render_map_patch(my_patch, layers, figsize=(1, 1), alpha=0.1, render_egoposes_range=False)\n",
    "ax.plot([], [], 'ko',\n",
    "            zorder=620,\n",
    "            markersize=4,\n",
    "            linewidth=2, alpha=0.7, label='Ours (ML)')\n",
    "\n",
    "ax.plot([],\n",
    "        [],\n",
    "        'w--o', label='Ground Truth',\n",
    "        linewidth=3,\n",
    "        path_effects=[pe.Stroke(linewidth=4, foreground='k'), pe.Normal()])\n",
    "leg = ax.legend(loc='upper left', fontsize=30, frameon=True)\n",
    "for lh in leg.legendHandles:\n",
    "    lh.set_alpha(.5)\n",
    "ax.axis('off')\n",
    "ax.grid('off')\n",
    "fig.savefig('plots/qual_nuScenes_legend.pdf', dpi=300, bbox_inches='tight')"
   ]
  },
  {
   "cell_type": "code",
   "execution_count": null,
   "metadata": {},
   "outputs": [],
   "source": []
  }
 ],
 "metadata": {
  "kernelspec": {
   "display_name": "devel",
   "language": "python",
   "name": "python3"
  },
  "language_info": {
   "codemirror_mode": {
    "name": "ipython",
    "version": 3
   },
   "file_extension": ".py",
   "mimetype": "text/x-python",
   "name": "python",
   "nbconvert_exporter": "python",
   "pygments_lexer": "ipython3",
   "version": "3.9.13"
  }
 },
 "nbformat": 4,
 "nbformat_minor": 2
}
